{
 "cells": [
  {
   "cell_type": "code",
   "execution_count": 1,
   "id": "9e3f228a",
   "metadata": {},
   "outputs": [],
   "source": [
    "import numpy as np"
   ]
  },
  {
   "cell_type": "code",
   "execution_count": 2,
   "id": "7fa538c0",
   "metadata": {},
   "outputs": [],
   "source": [
    "import matplotlib.pyplot as plt"
   ]
  },
  {
   "cell_type": "code",
   "execution_count": 3,
   "id": "c37d1b22",
   "metadata": {},
   "outputs": [],
   "source": [
    "my_list = [0 , 1 , 2, 3, 4] #lista, ciji elemtni mogu biti int, char, float ... bilo koji objekt"
   ]
  },
  {
   "cell_type": "code",
   "execution_count": 4,
   "id": "f222a739",
   "metadata": {},
   "outputs": [],
   "source": [
    "my_array = np.array([0, 1, 2, 3, 4]) #niz/vektor"
   ]
  },
  {
   "cell_type": "code",
   "execution_count": 5,
   "id": "e998b76a",
   "metadata": {},
   "outputs": [
    {
     "name": "stdout",
     "output_type": "stream",
     "text": [
      "[0, 1, 2, 3, 4]\n",
      "[0 1 2 3 4]\n"
     ]
    }
   ],
   "source": [
    "print(my_list)\n",
    "print(my_array)"
   ]
  },
  {
   "cell_type": "markdown",
   "id": "ca59e886",
   "metadata": {},
   "source": [
    "razlika kod matematickih operaora\n"
   ]
  },
  {
   "cell_type": "code",
   "execution_count": 9,
   "id": "906a5e77",
   "metadata": {},
   "outputs": [
    {
     "name": "stdout",
     "output_type": "stream",
     "text": [
      "my_list*2 [0, 1, 2, 3, 4, 0, 1, 2, 3, 4]\n",
      "my_array*2 [0 2 4 6 8]\n"
     ]
    }
   ],
   "source": [
    "print(\"my_list*2\", my_list*2)\n",
    "print(\"my_array*2\", my_array*2)"
   ]
  },
  {
   "cell_type": "markdown",
   "id": "6f24e0b8",
   "metadata": {},
   "source": [
    "definiranje funckije\n"
   ]
  },
  {
   "cell_type": "code",
   "execution_count": 13,
   "id": "54abd9d8",
   "metadata": {},
   "outputs": [
    {
     "name": "stdout",
     "output_type": "stream",
     "text": [
      "[ 1  4  9 16 25]\n"
     ]
    }
   ],
   "source": [
    "def my_function(x): # funckija pocinje sa def, nakon toga naziv funckije; u zagradu se stavlja argument te :\n",
    "    y = x+1     #sta zelimo da nam funckija rada (tijelo funkcije)\n",
    "    return y**2 #komanda koja definise sta funckija vraca kao rezultat\n",
    "\n",
    "print(my_function(my_array)) #printamo: naziv funckije, a u zagradu uzimamo sta je nas argument. u nasem slucaju za x \n",
    "                              # uzima elemente naseg niza"
   ]
  },
  {
   "cell_type": "markdown",
   "id": "f910a719",
   "metadata": {},
   "source": [
    "dakle, ako bismo zeljeli ovu funckiju primijeniti na listu, morali bismo koristiti for-petlju"
   ]
  },
  {
   "cell_type": "code",
   "execution_count": 16,
   "id": "a5a06ddd",
   "metadata": {},
   "outputs": [],
   "source": [
    "def my_function2(x):\n",
    "    y = [] # rezultat stavljamo u neku listu; poopcenje\n",
    "    for i in range(len(x)): # definiramo per petlju (ista logika kao C), i - broj indeksa\n",
    "        y_element = x[i]+1  # definiramo element petlje \n",
    "        y.append(y_element**2) #element prosirujemo s komandom koja def sta funckija radi\n",
    "    return y\n",
    "\n"
   ]
  },
  {
   "cell_type": "code",
   "execution_count": 18,
   "id": "d0bf519f",
   "metadata": {},
   "outputs": [
    {
     "name": "stdout",
     "output_type": "stream",
     "text": [
      "sin(x):\t [-0.84147098 -0.47942554  0.          0.47942554  0.84147098]\n",
      "arccos(x):\t [3.14159265 2.0943951  1.57079633 1.04719755 0.        ]\n",
      "log(x+10):\t [2.19722458 2.2512918  2.30258509 2.35137526 2.39789527]\n",
      "log10(x+10):\t [0.95424251 0.97772361 1.         1.0211893  1.04139269]\n"
     ]
    }
   ],
   "source": [
    "x = np.array([-1,-0.5, 0, 0.5, 1])\n",
    "print(\"sin(x):\\t\", np.sin(x))\n",
    "print(\"arccos(x):\\t\", np.arccos(x))\n",
    "print(\"log(x+10):\\t\" , np.log(x+10))\n",
    "print(\"log10(x+10):\\t\", np.log10(x+10))"
   ]
  },
  {
   "cell_type": "markdown",
   "id": "adb3f57c",
   "metadata": {},
   "source": [
    "generisanje vektora: jedna funkcija dopusta da biramo broj tacaka - np.linspace; druga, dopusta da definiramo korak / rastojanje izmedu tacaka - np.arange. obje funckije rade za zadati interval."
   ]
  },
  {
   "cell_type": "code",
   "execution_count": 19,
   "id": "affc91eb",
   "metadata": {},
   "outputs": [
    {
     "name": "stdout",
     "output_type": "stream",
     "text": [
      "[0.         0.04081633 0.08163265 0.12244898 0.16326531 0.20408163\n",
      " 0.24489796 0.28571429 0.32653061 0.36734694 0.40816327 0.44897959\n",
      " 0.48979592 0.53061224 0.57142857 0.6122449  0.65306122 0.69387755\n",
      " 0.73469388 0.7755102  0.81632653 0.85714286 0.89795918 0.93877551\n",
      " 0.97959184 1.02040816 1.06122449 1.10204082 1.14285714 1.18367347\n",
      " 1.2244898  1.26530612 1.30612245 1.34693878 1.3877551  1.42857143\n",
      " 1.46938776 1.51020408 1.55102041 1.59183673 1.63265306 1.67346939\n",
      " 1.71428571 1.75510204 1.79591837 1.83673469 1.87755102 1.91836735\n",
      " 1.95918367 2.        ]\n"
     ]
    }
   ],
   "source": [
    "x_lin = np.linspace(0, 2, 50) # interval je o - 2, a broj tacaka izmedu datog intervala je 50; segment je, nije interval.\n",
    "print(x_lin)"
   ]
  },
  {
   "cell_type": "code",
   "execution_count": 22,
   "id": "22a773c9",
   "metadata": {},
   "outputs": [
    {
     "name": "stdout",
     "output_type": "stream",
     "text": [
      "[0.  0.1 0.2 0.3 0.4 0.5 0.6 0.7 0.8 0.9 1.  1.1 1.2 1.3 1.4 1.5 1.6 1.7\n",
      " 1.8 1.9]\n"
     ]
    }
   ],
   "source": [
    "x_range = np.arange(0, 2, 0.1) #  ukljucje prvu tacku, ne ukljucuje posljednju\n",
    "print(x_range)"
   ]
  },
  {
   "cell_type": "markdown",
   "id": "5a0b0c7b",
   "metadata": {},
   "source": [
    "funkcije za generisanje nula i jedinica: np.zeros, np.ones"
   ]
  },
  {
   "cell_type": "code",
   "execution_count": 25,
   "id": "bd93d281",
   "metadata": {},
   "outputs": [
    {
     "name": "stdout",
     "output_type": "stream",
     "text": [
      "[0. 0. 0. 0. 0. 0. 0. 0. 0. 0. 0. 0. 0. 0. 0. 0. 0. 0. 0. 0.] [1. 1. 1. 1. 1. 1. 1. 1. 1. 1. 1. 1. 1. 1. 1. 1. 1. 1. 1. 1.]\n"
     ]
    }
   ],
   "source": [
    "zeros = np.zeros(20) # u zagradi definiramo broj generisanih clanova\n",
    "ones = np.ones(20)\n",
    "\n",
    "print(zeros, ones)"
   ]
  },
  {
   "cell_type": "code",
   "execution_count": null,
   "id": "02d2de79",
   "metadata": {},
   "outputs": [],
   "source": []
  },
  {
   "cell_type": "code",
   "execution_count": 36,
   "id": "e797bf81",
   "metadata": {},
   "outputs": [
    {
     "name": "stdout",
     "output_type": "stream",
     "text": [
      "1\n",
      "[1, 2]\n",
      "[2, 3, 4]\n",
      "[3, 4, 5, 6, 7, 8, 9, 10]\n",
      "[9, 10]\n",
      "[1, 3, 5, 7, 9]\n"
     ]
    }
   ],
   "source": [
    "my_list = [1, 2, 3, 4, 5, 6, 7, 8, 9, 10]\n",
    "#INEDKS =  0, 1, 2, 3, 4, 5, 6, 7, 8,  9\n",
    "#INDEKS = -8, -7, -6, -5, -4, -3, -2, -1\n",
    "print(my_list[0]) # prvi element, indeks 0 (kao u C)\n",
    "print(my_list[:2]) # prva dva elementa. ukljucujue prvi i drugi indeks, indeks dva (3) nije ukljucen\n",
    "print(my_list[1:4]) # ukljucuje prvi indeks, a 4 ne\n",
    "print(my_list[2:]) #krece od indkesa 2 pa nastavlja do kraja\n",
    "print(my_list[-2:]) #kaze id od -2 pa DO KRAJA LISTE; dakle, -2, -1\n",
    "print(my_list[::2]) #printe svaki drugi element\n",
    "\n",
    "# sintaksa je naziv_liste[start:stop:step]"
   ]
  },
  {
   "cell_type": "markdown",
   "id": "3bfcab50",
   "metadata": {},
   "source": [
    "# NIZVORI RAZLICITIH DIMENZIJA\n",
    "\n",
    "Napraviti matricu koja sarzi cijele brojeve od 0 do 8"
   ]
  },
  {
   "cell_type": "code",
   "execution_count": 38,
   "id": "6e55a54d",
   "metadata": {},
   "outputs": [
    {
     "name": "stdout",
     "output_type": "stream",
     "text": [
      "[[0 1 2]\n",
      " [3 4 5]\n",
      " [6 7 8]]\n"
     ]
    }
   ],
   "source": [
    "A = np.arange(9) #poredat ce 9 borjeva (clanova), elemenata matrije\n",
    "A = A.reshape((3,3)) #preoblikujemo je u zeljeni oblik, tj. 3x3\n",
    "print(A)"
   ]
  },
  {
   "cell_type": "code",
   "execution_count": 39,
   "id": "7c546c8e",
   "metadata": {},
   "outputs": [
    {
     "data": {
      "text/plain": [
       "array([[0., 0.],\n",
       "       [0., 0.],\n",
       "       [0., 0.],\n",
       "       [0., 0.]])"
      ]
     },
     "execution_count": 39,
     "metadata": {},
     "output_type": "execute_result"
    }
   ],
   "source": [
    "np.zeros((4,2))"
   ]
  },
  {
   "cell_type": "markdown",
   "id": "3c1a2e61",
   "metadata": {},
   "source": [
    "vektorski produkt @\n"
   ]
  },
  {
   "cell_type": "code",
   "execution_count": 43,
   "id": "a2e13036",
   "metadata": {},
   "outputs": [
    {
     "name": "stdout",
     "output_type": "stream",
     "text": [
      "[ 5 14 23]\n",
      "[[ 0  1  4]\n",
      " [ 0  4 10]\n",
      " [ 0  7 16]]\n"
     ]
    }
   ],
   "source": [
    "x =np.array([0,1,2])\n",
    "print(A @ x) #vektorski produkt\n",
    "print(A*x) #skalarni produkt"
   ]
  },
  {
   "cell_type": "markdown",
   "id": "1d3109f0",
   "metadata": {},
   "source": [
    "# 'Rezanje' matrica"
   ]
  },
  {
   "cell_type": "code",
   "execution_count": 53,
   "id": "fe4e0aec",
   "metadata": {},
   "outputs": [
    {
     "name": "stdout",
     "output_type": "stream",
     "text": [
      "1\n",
      "[3 4]\n",
      "[2 5 8]\n"
     ]
    }
   ],
   "source": [
    "print(A[0,1]) # A_ij\n",
    "print(A[1,0:2 ]) # 1 smo izabrali 2. red, a koristeci 1D 'rezanje' izabrali smo calnove 3 i 4 i isli smo od 0 do 2 (i: 2 ne uzima)\n",
    "print(A[: , -1]) "
   ]
  },
  {
   "cell_type": "markdown",
   "id": "b4c64de3",
   "metadata": {},
   "source": [
    "# Meshgrid"
   ]
  },
  {
   "cell_type": "code",
   "execution_count": 70,
   "id": "45968ac6",
   "metadata": {},
   "outputs": [
    {
     "name": "stdout",
     "output_type": "stream",
     "text": [
      "[[0 1 2 3 4]\n",
      " [0 1 2 3 4]\n",
      " [0 1 2 3 4]]\n",
      "[[2 2 2 2 2]\n",
      " [3 3 3 3 3]\n",
      " [4 4 4 4 4]]\n"
     ]
    },
    {
     "data": {
      "image/png": "[encoded data removed]",
      "text/plain": [
       "<Figure size 640x480 with 1 Axes>"
      ]
     },
     "metadata": {},
     "output_type": "display_data"
    }
   ],
   "source": [
    "x = np.arange(0, 5)\n",
    "y = np.arange(2, 5)\n",
    "\n",
    "xx, yy = np.meshgrid(x, y)\n",
    "\n",
    "print(xx)\n",
    "print(yy)\n",
    "\n",
    "plt.pcolormesh(xx, yy, xx+yy) # xx+yy je bilo koja funckija koja uzima argumente xx, yy\n",
    "plt.show()"
   ]
  },
  {
   "cell_type": "markdown",
   "id": "792b4b04",
   "metadata": {},
   "source": [
    "# Razmatranje računarske brzine\n",
    "\n",
    "Umjesto ugnjezedne for-petlje, kako bismo ubrzali program, moze se koristiti meshgrid, umjesto samo grafickog predstavljanja.\n",
    "Koristan je za funckije dvije varijable. \n",
    "\n",
    "## Primjer: Izracunavanje amplitude prinudnih hamonijskih oscilacija\n",
    "\n",
    "$\\Theta_0 (q, \\omega_D) = \\frac{F_D}{\\sqrt{(\\omega_0^2 - \\omega_D^2)^2 +(q \\omega_D)^2}}$, \n",
    "\n",
    "$F_D$ prinudna sila; $\\omega_O$ vlastita frekvencija oscilatora; $q$ faktor prigusenja; $\\omega_D$ frekvencija prunudne sile"
   ]
  },
  {
   "cell_type": "code",
   "execution_count": 73,
   "id": "7363795a",
   "metadata": {},
   "outputs": [
    {
     "data": {
      "image/png": "[encoded data removed]",
      "text/plain": [
       "<Figure size 640x480 with 1 Axes>"
      ]
     },
     "metadata": {},
     "output_type": "display_data"
    }
   ],
   "source": [
    "def amplitude (omega, omega_drive, q, Fd = 1): #definiramo funkciju za promjenjive \n",
    "    return Fd/ (np.sqrt((omega**2-omega_drive**2)**2 + (q*omega_drive)**2))\n",
    "\n",
    "omega = 1 # uzima da je vlasita vrijednost oscilatora 1\n",
    "q = np.linspace(0.5,1.5,20)   # uzima faktor prigusenja od 0.5 do 1.5 i uzima 20 vrijednosti\n",
    "omega_D = omega * np.linspace(0.5,1.5,40)  #uzima 40 vrijednosti od 0.5, 1.5\n",
    "\n",
    "qq, omega_DD = np.meshgrid(q, omega_D) \n",
    "\n",
    "a = amplitude(omega, omega_DD, qq)\n",
    "\n",
    "plt.pcolormesh(omega_D, q, a.T, shading = \"auto\" )\n",
    "plt.show()"
   ]
  },
  {
   "cell_type": "markdown",
   "id": "7e7845a5",
   "metadata": {},
   "source": [
    "Kako bismo izracunali vrijeme izvrsenja neke linije koda u Jupyter, koristimo komandu %limeit\n",
    "Ako bismo koristili %%timeit, racunali bismo vrijeme izvrsenja dijela koda."
   ]
  },
  {
   "cell_type": "code",
   "execution_count": 79,
   "id": "34be56e9",
   "metadata": {},
   "outputs": [
    {
     "name": "stdout",
     "output_type": "stream",
     "text": [
      "11.2 µs ± 68.8 ns per loop (mean ± std. dev. of 7 runs, 100000 loops each)\n"
     ]
    }
   ],
   "source": [
    "%timeit a = amplitude(omega, omega_DD, qq)"
   ]
  },
  {
   "cell_type": "code",
   "execution_count": 80,
   "id": "bc5d14d1",
   "metadata": {},
   "outputs": [
    {
     "name": "stdout",
     "output_type": "stream",
     "text": [
      "2.39 ms ± 32 µs per loop (mean ± std. dev. of 7 runs, 100 loops each)\n"
     ]
    }
   ],
   "source": [
    "%%timeit\n",
    "\n",
    "a_python=[] #prazna funckija za smjestanje clanova for-petlja\n",
    "\n",
    "for omegas in omega_D:\n",
    "    for q_val in q:\n",
    "        a_python.append(amplitude(omega, omegas, q_val))\n",
    "        "
   ]
  },
  {
   "cell_type": "code",
   "execution_count": 81,
   "id": "a4a3efe3",
   "metadata": {},
   "outputs": [
    {
     "name": "stdout",
     "output_type": "stream",
     "text": [
      "179 ms ± 20.2 ms per loop (mean ± std. dev. of 7 runs, 1 loop each)\n"
     ]
    }
   ],
   "source": [
    "omega = 1 \n",
    "q = np.linspace(0.5,1.5,2000)  \n",
    "omega_D = omega * np.linspace(0.5,1.5,4000)\n",
    "\n",
    "qq, omega_DD = np.meshgrid(q, omega_D)\n",
    "%timeit a = amplitude(omega, omega_DD, qq)"
   ]
  },
  {
   "cell_type": "code",
   "execution_count": 84,
   "id": "cfc1b314",
   "metadata": {
    "scrolled": true
   },
   "outputs": [
    {
     "name": "stdout",
     "output_type": "stream",
     "text": [
      "24.3 s ± 345 ms per loop (mean ± std. dev. of 7 runs, 1 loop each)\n"
     ]
    }
   ],
   "source": [
    "%%timeit\n",
    "a_python = []\n",
    "\n",
    "for omegas in omega_D:\n",
    "    for q_val in q:\n",
    "        a_python.append(amplitude(omega, omegas, q_val))\n",
    "\n",
    "        "
   ]
  },
  {
   "cell_type": "markdown",
   "id": "638ad836",
   "metadata": {},
   "source": [
    "# Kompleksni brojevi"
   ]
  },
  {
   "cell_type": "code",
   "execution_count": 95,
   "id": "2a22c8ad",
   "metadata": {
    "scrolled": true
   },
   "outputs": [
    {
     "data": {
      "image/png": "[encoded data removed]",
      "text/plain": [
       "<Figure size 640x480 with 1 Axes>"
      ]
     },
     "metadata": {},
     "output_type": "display_data"
    }
   ],
   "source": [
    "theta = np.linspace(0+0j, 2*np.pi*1j, 50)\n",
    "\n",
    "ea = np.exp(theta)\n",
    "\n",
    "plt.plot(np.abs(theta), np.real(ea))\n",
    "plt.plot(np.abs(theta), np.imag(ea))\n",
    "plt.show()"
   ]
  },
  {
   "cell_type": "code",
   "execution_count": 93,
   "id": "787bbc6b",
   "metadata": {},
   "outputs": [
    {
     "data": {
      "image/png": "[encoded data removed]",
      "text/plain": [
       "<Figure size 640x480 with 1 Axes>"
      ]
     },
     "metadata": {},
     "output_type": "display_data"
    }
   ],
   "source": [
    "plt.plot(abs(ea),np.real(ea))\n",
    "#plt.plot(np.imag(ea))\n",
    "plt.show()"
   ]
  },
  {
   "cell_type": "markdown",
   "id": "dec156a6",
   "metadata": {},
   "source": [
    "# Čitanje brojeva iz fajla\n"
   ]
  },
  {
   "cell_type": "code",
   "execution_count": 99,
   "id": "92f7524e",
   "metadata": {},
   "outputs": [
    {
     "name": "stdout",
     "output_type": "stream",
     "text": [
      "[[ 0.         10.52220137  3.15239917]\n",
      " [ 0.52631579 10.23355002  3.27285991]\n",
      " [ 1.05263158 10.92881718  3.53663193]\n",
      " [ 1.57894737 10.4880909   3.50229028]\n",
      " [ 2.10526316 10.43978719  3.47322148]\n",
      " [ 2.63157895 10.40069219  4.58370474]\n",
      " [ 3.15789474 10.38539     4.92386551]\n",
      " [ 3.68421053 10.82980119  4.74906494]\n",
      " [ 4.21052632 10.45174438  5.55397891]\n",
      " [ 4.73684211 10.16078747  6.14630413]\n",
      " [ 5.26315789 10.10223829  6.07077798]\n",
      " [ 5.78947368 10.59938701  7.21440152]\n",
      " [ 6.31578947 10.97894173  7.69948852]\n",
      " [ 6.84210526 10.63288969  9.74896976]\n",
      " [ 7.36842105 10.48996214  9.39695595]\n",
      " [ 7.89473684 10.53800563 11.24194734]\n",
      " [ 8.42105263 10.36691713 11.21430356]\n",
      " [ 8.94736842 10.51385622 12.03454861]\n",
      " [ 9.47368421 10.04225154 12.11379482]\n",
      " [10.         10.64815814 13.05222008]]\n"
     ]
    }
   ],
   "source": [
    "data = np.loadtxt('C:\\\\Users\\\\Korisnik\\\\Desktop\\\\intermediate_numpy_my_data.txt') #prva kolona: vrijeme, druga: temperatura, treca: brzina vjetra\n",
    "print(data)"
   ]
  },
  {
   "cell_type": "code",
   "execution_count": 100,
   "id": "dcea60ef",
   "metadata": {},
   "outputs": [],
   "source": [
    "t, temperature, wind = np.loadtxt('C:\\\\Users\\\\Korisnik\\\\Desktop\\\\intermediate_numpy_my_data.txt', unpack = True) \n",
    "# upack komandom pridodajemo vrijednosti prvoj, drugoj, trecoj kolini, nazive t, temperature, wind"
   ]
  },
  {
   "cell_type": "code",
   "execution_count": 107,
   "id": "6a3ee346",
   "metadata": {},
   "outputs": [
    {
     "data": {
      "image/png": "[encoded data removed]",
      "text/plain": [
       "<Figure size 640x480 with 1 Axes>"
      ]
     },
     "metadata": {},
     "output_type": "display_data"
    }
   ],
   "source": [
    "plt.plot(temperature, '-o', label = \"Temperatura\")\n",
    "plt.plot(wind, '-o', label = \"Vjetar\")\n",
    "\n",
    "\n",
    "plt.legend()\n",
    "plt.show()"
   ]
  },
  {
   "cell_type": "code",
   "execution_count": 110,
   "id": "7ba2ce45",
   "metadata": {},
   "outputs": [],
   "source": [
    "T_mean = np.mean(temperature)\n",
    "delta_temperature = temperature - T_mean\n",
    "np.savetxt('C:\\\\Users\\\\Korisnik\\\\Desktop\\\\new_intermediate_numpy_my_data.txt', np.transpose((t, delta_temperature)))"
   ]
  },
  {
   "cell_type": "code",
   "execution_count": null,
   "id": "8e26af90",
   "metadata": {},
   "outputs": [],
   "source": []
  }
 ],
 "metadata": {
  "kernelspec": {
   "display_name": "Python 3 (ipykernel)",
   "language": "python",
   "name": "python3"
  },
  "language_info": {
   "codemirror_mode": {
    "name": "ipython",
    "version": 3
   },
   "file_extension": ".py",
   "mimetype": "text/x-python",
   "name": "python",
   "nbconvert_exporter": "python",
   "pygments_lexer": "ipython3",
   "version": "3.9.13"
  }
 },
 "nbformat": 4,
 "nbformat_minor": 5
}
